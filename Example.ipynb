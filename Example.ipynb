{
 "cells": [
  {
   "cell_type": "code",
   "execution_count": 1,
   "id": "exciting-blood",
   "metadata": {},
   "outputs": [],
   "source": [
    "from generator import generator_pdf"
   ]
  },
  {
   "cell_type": "code",
   "execution_count": 2,
   "id": "technological-favorite",
   "metadata": {},
   "outputs": [
    {
     "name": "stderr",
     "output_type": "stream",
     "text": [
      "100%|██████████| 30/30 [01:42<00:00,  3.43s/it]\n"
     ]
    }
   ],
   "source": [
    "generator_pdf(input_db_file = '/home/lavergne/these/GRB/GRB10yrHESS/reworked_output/GBM_GRB.csv',\n",
    "              runlist_folder = '/home/lavergne/these/GRB/GRB10yrHESS/reworked_output/runlist/',\n",
    "              lowlevel_folder = '/home/lavergne/these/GRB/GRB10yrHESS/lowlevelcheck/CalibDiagnostics/',\n",
    "              report_folder = '/home/lavergne/these/GRB/GRB10yrHESS/lowlevelcheck/report/',\n",
    "              delete_tex_files=True)"
   ]
  },
  {
   "cell_type": "code",
   "execution_count": 3,
   "id": "later-elite",
   "metadata": {},
   "outputs": [
    {
     "name": "stderr",
     "output_type": "stream",
     "text": [
      "100%|██████████| 72/72 [04:31<00:00,  3.77s/it]\n"
     ]
    }
   ],
   "source": [
    "generator_pdf(input_db_file = '/home/lavergne/these/GRB/GRB10yrHESS/reworked_output/LOC_GRB.csv',\n",
    "              runlist_folder = '/home/lavergne/these/GRB/GRB10yrHESS/reworked_output/runlist/',\n",
    "              lowlevel_folder = '/home/lavergne/these/GRB/GRB10yrHESS/lowlevelcheck/CalibDiagnostics/',\n",
    "              report_folder = '/home/lavergne/these/GRB/GRB10yrHESS/lowlevelcheck/report/',\n",
    "              delete_tex_files=True)"
   ]
  }
 ],
 "metadata": {
  "kernelspec": {
   "display_name": "Python 3",
   "language": "python",
   "name": "python3"
  },
  "language_info": {
   "codemirror_mode": {
    "name": "ipython",
    "version": 3
   },
   "file_extension": ".py",
   "mimetype": "text/x-python",
   "name": "python",
   "nbconvert_exporter": "python",
   "pygments_lexer": "ipython3",
   "version": "3.7.7"
  }
 },
 "nbformat": 4,
 "nbformat_minor": 5
}
